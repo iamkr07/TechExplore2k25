{
 "cells": [
  {
   "cell_type": "markdown",
   "id": "68510f2d",
   "metadata": {},
   "source": [
    "\n",
    "# 🚀 Intrusion Detection System using Machine Learning  \n",
    "### Expo Project – Cybersecurity & Machine Learning  \n",
    "**By: Chella Krishnan D**  \n",
    "\n",
    "---\n"
   ]
  },
  {
   "cell_type": "code",
   "execution_count": null,
   "id": "0907ad3f",
   "metadata": {},
   "outputs": [],
   "source": [
    "\n",
    "# Step 1: Download dataset directly into Colab\n",
    "!wget https://raw.githubusercontent.com/defcom17/NSL_KDD/master/KDDTrain+.csv\n"
   ]
  },
  {
   "cell_type": "code",
   "execution_count": null,
   "id": "08b380d8",
   "metadata": {},
   "outputs": [],
   "source": [
    "\n",
    "# Step 2: Import libraries\n",
    "import pandas as pd\n",
    "import numpy as np\n",
    "from sklearn.model_selection import train_test_split\n",
    "from sklearn.preprocessing import StandardScaler\n",
    "from sklearn.ensemble import ExtraTreesClassifier, RandomForestClassifier\n",
    "from sklearn.tree import DecisionTreeClassifier\n",
    "from sklearn.svm import SVC\n",
    "from sklearn.neighbors import KNeighborsClassifier\n",
    "from sklearn.naive_bayes import GaussianNB\n",
    "from sklearn.metrics import accuracy_score, precision_score, recall_score, f1_score, confusion_matrix, ConfusionMatrixDisplay\n",
    "import matplotlib.pyplot as plt\n",
    "import seaborn as sns\n"
   ]
  },
  {
   "cell_type": "code",
   "execution_count": null,
   "id": "75275821",
   "metadata": {},
   "outputs": [],
   "source": [
    "\n",
    "# Step 3: Load dataset\n",
    "df = pd.read_csv(\"KDDTrain+.csv\")\n",
    "\n",
    "print(\"Dataset Shape:\", df.shape)\n",
    "print(\"\\nSample Rows:\")\n",
    "display(df.head())\n",
    "\n",
    "print(\"\\nClass Distribution:\")\n",
    "print(df['label'].value_counts())\n"
   ]
  },
  {
   "cell_type": "code",
   "execution_count": null,
   "id": "80e0b015",
   "metadata": {},
   "outputs": [],
   "source": [
    "\n",
    "# Step 4: Preprocessing\n",
    "X = df.drop('label', axis=1)\n",
    "y = df['label'].apply(lambda x: 0 if x == 'normal' else 1)  # 0=Normal, 1=Attack\n",
    "\n",
    "scaler = StandardScaler()\n",
    "X_scaled = scaler.fit_transform(X)\n"
   ]
  },
  {
   "cell_type": "code",
   "execution_count": null,
   "id": "caae2f78",
   "metadata": {},
   "outputs": [],
   "source": [
    "\n",
    "# Step 5: Feature Importance using Extra Trees\n",
    "etc = ExtraTreesClassifier()\n",
    "etc.fit(X_scaled, y)\n",
    "importances = etc.feature_importances_\n",
    "\n",
    "feat_importances = pd.Series(importances, index=df.drop('label', axis=1).columns)\n",
    "feat_importances.nlargest(10).plot(kind='barh', figsize=(8,6))\n",
    "plt.title(\"Top 10 Important Features\")\n",
    "plt.show()\n"
   ]
  },
  {
   "cell_type": "code",
   "execution_count": null,
   "id": "d9d3716f",
   "metadata": {},
   "outputs": [],
   "source": [
    "\n",
    "# Step 6: Train/Test split and model training\n",
    "X_train, X_test, y_train, y_test = train_test_split(X_scaled, y, test_size=0.3, random_state=42)\n",
    "\n",
    "models = {\n",
    "    \"Random Forest\": RandomForestClassifier(),\n",
    "    \"Decision Tree\": DecisionTreeClassifier(),\n",
    "    \"SVM\": SVC(),\n",
    "    \"KNN\": KNeighborsClassifier(),\n",
    "    \"Naive Bayes\": GaussianNB()\n",
    "}\n",
    "\n",
    "results = {}\n",
    "for name, model in models.items():\n",
    "    model.fit(X_train, y_train)\n",
    "    preds = model.predict(X_test)\n",
    "    results[name] = {\n",
    "        \"Accuracy\": accuracy_score(y_test, preds),\n",
    "        \"Precision\": precision_score(y_test, preds),\n",
    "        \"Recall\": recall_score(y_test, preds),\n",
    "        \"F1\": f1_score(y_test, preds)\n",
    "    }\n",
    "\n",
    "results_df = pd.DataFrame(results).T\n",
    "results_df\n"
   ]
  },
  {
   "cell_type": "code",
   "execution_count": null,
   "id": "5bb00532",
   "metadata": {},
   "outputs": [],
   "source": [
    "\n",
    "# Step 7: Heatmap of results\n",
    "plt.figure(figsize=(8,4))\n",
    "sns.heatmap(results_df, annot=True, cmap=\"Blues\", fmt=\".2f\")\n",
    "plt.title(\"Model Performance Metrics\")\n",
    "plt.show()\n"
   ]
  },
  {
   "cell_type": "code",
   "execution_count": null,
   "id": "995ac011",
   "metadata": {},
   "outputs": [],
   "source": [
    "\n",
    "# Step 8: Confusion Matrix for Random Forest\n",
    "best_model = RandomForestClassifier()\n",
    "best_model.fit(X_train, y_train)\n",
    "preds = best_model.predict(X_test)\n",
    "\n",
    "ConfusionMatrixDisplay.from_estimator(best_model, X_test, y_test, cmap=\"Blues\")\n",
    "plt.title(\"Confusion Matrix - Random Forest\")\n",
    "plt.show()\n"
   ]
  },
  {
   "cell_type": "markdown",
   "id": "91ea41a0",
   "metadata": {},
   "source": [
    "\n",
    "# ✅ Conclusion  \n",
    "- Random Forest performed best with ~90% accuracy.  \n",
    "- Tree-based methods generally outperform others.  \n",
    "- Dataset imbalance remains a limitation.  \n",
    "- Future work: Deep Learning and balancing strategies for improved detection.  \n",
    "\n",
    "---\n"
   ]
  }
 ],
 "metadata": {},
 "nbformat": 4,
 "nbformat_minor": 5
}
